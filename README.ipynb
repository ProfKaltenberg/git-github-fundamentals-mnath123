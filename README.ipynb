{
 "cells": [
  {
   "cell_type": "markdown",
   "id": "bb93800b",
   "metadata": {},
   "source": [
    "## *Hi I am Moumita* 😃\n",
    "\n",
    "I am a graduate student at Pace University.\n",
    "I am pursuing my masters in MS Applied Quantitative Economic Analysis and Policy.\n",
    "I enjoy drawing, photography, music.\n",
    "\n",
    "![hi_gif](https://media.giphy.com/media/hqgD6bocRHhEjamBPA/giphy.gif)"
   ]
  },
  {
   "cell_type": "code",
   "execution_count": null,
   "id": "e66a9c66",
   "metadata": {},
   "outputs": [],
   "source": []
  }
 ],
 "metadata": {
  "kernelspec": {
   "display_name": "Python 3 (ipykernel)",
   "language": "python",
   "name": "python3"
  },
  "language_info": {
   "codemirror_mode": {
    "name": "ipython",
    "version": 3
   },
   "file_extension": ".py",
   "mimetype": "text/x-python",
   "name": "python",
   "nbconvert_exporter": "python",
   "pygments_lexer": "ipython3",
   "version": "3.9.7"
  }
 },
 "nbformat": 4,
 "nbformat_minor": 5
}
